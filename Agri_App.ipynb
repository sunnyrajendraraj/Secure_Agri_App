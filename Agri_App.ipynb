{
 "cells": [
  {
   "cell_type": "code",
   "execution_count": 1,
   "id": "fa83531c-5c11-4076-9686-1e4b57d51734",
   "metadata": {},
   "outputs": [
    {
     "name": "stdout",
     "output_type": "stream",
     "text": [
      "Encryption key generated and saved.\n"
     ]
    }
   ],
   "source": [
    "from cryptography.fernet import Fernet\n",
    "\n",
    "# Generate and save the encryption key\n",
    "def generate_key():\n",
    "    key = Fernet.generate_key()\n",
    "    with open(\"encryption_key.key\", \"wb\") as key_file:\n",
    "        key_file.write(key)\n",
    "    print(\"Encryption key generated and saved.\")\n",
    "\n",
    "# Call the function to generate a key\n",
    "generate_key()\n"
   ]
  },
  {
   "cell_type": "code",
   "execution_count": 2,
   "id": "f63ab95b-c4ba-4db6-b95f-c1b45775e203",
   "metadata": {},
   "outputs": [],
   "source": [
    "def load_key():\n",
    "    with open(\"encryption_key.key\", \"rb\") as key_file:\n",
    "        return key_file.read()\n",
    "\n",
    "# Load the key\n",
    "key = load_key()\n",
    "fernet = Fernet(key)\n"
   ]
  },
  {
   "cell_type": "code",
   "execution_count": 3,
   "id": "aa5b5fd4-a6b2-4385-b7f2-db75a74ca77b",
   "metadata": {},
   "outputs": [
    {
     "name": "stdout",
     "output_type": "stream",
     "text": [
      "Encrypted: b'gAAAAABnpkwH4HAPttp6ieL48rK4dI9gldCPfOjt89shHvG7yx-u8-JZgeTc4ZUVBScRwhVYMVuY_XsKDCRHnUbzdCdBmYPcfmHFSN26P4QUeIXxWyK0VVc4CteYR8aJ2yWq7ACMylOT'\n"
     ]
    }
   ],
   "source": [
    "def encrypt_data(data):\n",
    "    encrypted = fernet.encrypt(data.encode())\n",
    "    return encrypted\n",
    "\n",
    "# Example Usage\n",
    "plain_text = \"This is sample agricultural data.\"\n",
    "encrypted_text = encrypt_data(plain_text)\n",
    "print(\"Encrypted:\", encrypted_text)\n"
   ]
  },
  {
   "cell_type": "code",
   "execution_count": 4,
   "id": "9d53aed7-b2da-4533-a2ed-2a89fbaeea9c",
   "metadata": {},
   "outputs": [
    {
     "name": "stdout",
     "output_type": "stream",
     "text": [
      "Decrypted: This is sample agricultural data.\n"
     ]
    }
   ],
   "source": [
    "def decrypt_data(encrypted_data):\n",
    "    decrypted = fernet.decrypt(encrypted_data).decode()\n",
    "    return decrypted\n",
    "\n",
    "# Example Usage\n",
    "decrypted_text = decrypt_data(encrypted_text)\n",
    "print(\"Decrypted:\", decrypted_text)\n"
   ]
  },
  {
   "cell_type": "code",
   "execution_count": 5,
   "id": "bb78fef9-37e6-42c9-be8f-22ef621c53f2",
   "metadata": {},
   "outputs": [
    {
     "name": "stdout",
     "output_type": "stream",
     "text": [
      "Database and table created.\n"
     ]
    }
   ],
   "source": [
    "import sqlite3\n",
    "\n",
    "# Create database and table\n",
    "def setup_database():\n",
    "    conn = sqlite3.connect(\"agriculture_data.db\")\n",
    "    cursor = conn.cursor()\n",
    "    cursor.execute(\"\"\"\n",
    "        CREATE TABLE IF NOT EXISTS data (\n",
    "            id INTEGER PRIMARY KEY AUTOINCREMENT,\n",
    "            encrypted_info BLOB\n",
    "        )\n",
    "    \"\"\")\n",
    "    conn.commit()\n",
    "    conn.close()\n",
    "    print(\"Database and table created.\")\n",
    "\n",
    "setup_database()\n"
   ]
  },
  {
   "cell_type": "code",
   "execution_count": 6,
   "id": "1a5239a3-9fa7-4255-8a8a-9474ec125d17",
   "metadata": {},
   "outputs": [
    {
     "name": "stdout",
     "output_type": "stream",
     "text": [
      "Encrypted data saved to database.\n"
     ]
    }
   ],
   "source": [
    "def save_to_database(encrypted_info):\n",
    "    conn = sqlite3.connect(\"agriculture_data.db\")\n",
    "    cursor = conn.cursor()\n",
    "    cursor.execute(\"INSERT INTO data (encrypted_info) VALUES (?)\", (encrypted_info,))\n",
    "    conn.commit()\n",
    "    conn.close()\n",
    "    print(\"Encrypted data saved to database.\")\n",
    "\n",
    "# Example Usage\n",
    "save_to_database(encrypted_text)\n"
   ]
  },
  {
   "cell_type": "code",
   "execution_count": 7,
   "id": "2acce6fa-14ad-4d88-8480-5cd82986960a",
   "metadata": {},
   "outputs": [
    {
     "name": "stdout",
     "output_type": "stream",
     "text": [
      "Retrieved and Decrypted Data: ['This is sample agricultural data.']\n"
     ]
    }
   ],
   "source": [
    "def retrieve_data():\n",
    "    conn = sqlite3.connect(\"agriculture_data.db\")\n",
    "    cursor = conn.cursor()\n",
    "    cursor.execute(\"SELECT encrypted_info FROM data\")\n",
    "    rows = cursor.fetchall()\n",
    "    conn.close()\n",
    "\n",
    "    decrypted_data = [decrypt_data(row[0]) for row in rows]\n",
    "    return decrypted_data\n",
    "\n",
    "# Example Usage\n",
    "retrieved_data = retrieve_data()\n",
    "print(\"Retrieved and Decrypted Data:\", retrieved_data)\n"
   ]
  },
  {
   "cell_type": "code",
   "execution_count": 8,
   "id": "1e3c1bbc-e800-4a99-afe7-5ebdd52ab8ef",
   "metadata": {},
   "outputs": [
    {
     "name": "stdout",
     "output_type": "stream",
     "text": [
      "\n",
      "Secure Agricultural Data System\n",
      "1. Encrypt and Store Data\n",
      "2. Retrieve and Decrypt Data\n",
      "3. Exit\n"
     ]
    },
    {
     "name": "stdin",
     "output_type": "stream",
     "text": [
      "Enter your choice:  1\n",
      "Enter the agricultural data to encrypt:  Agri Data from IIIT Bhagalpur\n"
     ]
    },
    {
     "name": "stdout",
     "output_type": "stream",
     "text": [
      "Encrypted data saved to database.\n",
      "\n",
      "Secure Agricultural Data System\n",
      "1. Encrypt and Store Data\n",
      "2. Retrieve and Decrypt Data\n",
      "3. Exit\n"
     ]
    },
    {
     "name": "stdin",
     "output_type": "stream",
     "text": [
      "Enter your choice:  2\n"
     ]
    },
    {
     "name": "stdout",
     "output_type": "stream",
     "text": [
      "\n",
      "Decrypted Data:\n",
      "This is sample agricultural data.\n",
      "Agri Data from IIIT Bhagalpur\n",
      "\n",
      "Secure Agricultural Data System\n",
      "1. Encrypt and Store Data\n",
      "2. Retrieve and Decrypt Data\n",
      "3. Exit\n"
     ]
    },
    {
     "name": "stdin",
     "output_type": "stream",
     "text": [
      "Enter your choice:  3\n"
     ]
    }
   ],
   "source": [
    "def menu():\n",
    "    while True:\n",
    "        print(\"\\nSecure Agricultural Data System\")\n",
    "        print(\"1. Encrypt and Store Data\")\n",
    "        print(\"2. Retrieve and Decrypt Data\")\n",
    "        print(\"3. Exit\")\n",
    "        \n",
    "        choice = input(\"Enter your choice: \")\n",
    "\n",
    "        if choice == \"1\":\n",
    "            data = input(\"Enter the agricultural data to encrypt: \")\n",
    "            encrypted_data = encrypt_data(data)\n",
    "            save_to_database(encrypted_data)\n",
    "        elif choice == \"2\":\n",
    "            decrypted_data = retrieve_data()\n",
    "            print(\"\\nDecrypted Data:\")\n",
    "            for item in decrypted_data:\n",
    "                print(item)\n",
    "        elif choice == \"3\":\n",
    "            break\n",
    "        else:\n",
    "            print(\"Invalid choice. Please try again.\")\n",
    "\n",
    "# Run the menu\n",
    "menu()\n"
   ]
  }
 ],
 "metadata": {
  "kernelspec": {
   "display_name": "Python 3 (ipykernel)",
   "language": "python",
   "name": "python3"
  },
  "language_info": {
   "codemirror_mode": {
    "name": "ipython",
    "version": 3
   },
   "file_extension": ".py",
   "mimetype": "text/x-python",
   "name": "python",
   "nbconvert_exporter": "python",
   "pygments_lexer": "ipython3",
   "version": "3.11.7"
  }
 },
 "nbformat": 4,
 "nbformat_minor": 5
}
